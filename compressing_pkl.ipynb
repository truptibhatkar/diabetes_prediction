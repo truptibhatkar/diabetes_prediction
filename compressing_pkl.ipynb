{
 "cells": [
  {
   "cell_type": "code",
   "execution_count": 3,
   "id": "fa155cbd-be9c-48dd-b5b7-2efb42413c0f",
   "metadata": {},
   "outputs": [
    {
     "name": "stdout",
     "output_type": "stream",
     "text": [
      "Model has been compressed and saved as diabetes_model_compressed.pkl.gz.\n"
     ]
    }
   ],
   "source": [
    "import pickle\n",
    "import gzip\n",
    "\n",
    "# Load the model from the .pkl file\n",
    "with open('diabetes_model.pkl', 'rb') as f:\n",
    "    model = pickle.load(f)\n",
    "\n",
    "# Save the model to a compressed .gz file\n",
    "with gzip.open('diabetes_model_compressed.pkl.gz', 'wb') as f:\n",
    "    pickle.dump(model, f)\n",
    "\n",
    "print(\"Model has been compressed and saved as diabetes_model_compressed.pkl.gz.\")\n"
   ]
  },
  {
   "cell_type": "code",
   "execution_count": null,
   "id": "2868d3ec-59d1-4325-8adf-5e111fcd1076",
   "metadata": {},
   "outputs": [],
   "source": []
  }
 ],
 "metadata": {
  "kernelspec": {
   "display_name": "Python 3 (ipykernel)",
   "language": "python",
   "name": "python3"
  },
  "language_info": {
   "codemirror_mode": {
    "name": "ipython",
    "version": 3
   },
   "file_extension": ".py",
   "mimetype": "text/x-python",
   "name": "python",
   "nbconvert_exporter": "python",
   "pygments_lexer": "ipython3",
   "version": "3.12.5"
  }
 },
 "nbformat": 4,
 "nbformat_minor": 5
}
