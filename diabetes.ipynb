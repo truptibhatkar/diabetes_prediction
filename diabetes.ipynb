{
 "cells": [
  {
   "cell_type": "code",
   "execution_count": 4,
   "id": "f73cff18-dd86-414e-b8d5-e0b2a307688c",
   "metadata": {},
   "outputs": [
    {
     "name": "stdout",
     "output_type": "stream",
     "text": [
      "Confusion Matrix:\n",
      "[[17848   445]\n",
      " [  495 17812]]\n",
      "\n",
      "Classification Report:\n",
      "              precision    recall  f1-score   support\n",
      "\n",
      "           0       0.97      0.98      0.97     18293\n",
      "           1       0.98      0.97      0.97     18307\n",
      "\n",
      "    accuracy                           0.97     36600\n",
      "   macro avg       0.97      0.97      0.97     36600\n",
      "weighted avg       0.97      0.97      0.97     36600\n",
      "\n",
      "\n",
      "ROC-AUC Score: 0.9970031319333319\n"
     ]
    }
   ],
   "source": [
    "# diabetes.ipynb (Train model and save with joblib)\n",
    "\n",
    "import pandas as pd\n",
    "import numpy as np\n",
    "from sklearn.model_selection import train_test_split\n",
    "from sklearn.ensemble import RandomForestClassifier\n",
    "from sklearn.metrics import classification_report, confusion_matrix, roc_auc_score\n",
    "from imblearn.over_sampling import SMOTE\n",
    "from sklearn.preprocessing import StandardScaler\n",
    "import joblib\n",
    "\n",
    "# Load the dataset\n",
    "dataset = pd.read_csv(\"C:/Users/bhatk/OneDrive/Documents/jupyter/diabetes_data_prediction/diabetes_prediction_dataset.csv\")\n",
    "\n",
    "# Check for missing values\n",
    "if dataset.isnull().sum().sum() > 0:\n",
    "    dataset = dataset.dropna()\n",
    "\n",
    "# Encode categorical features if any\n",
    "categorical_columns = dataset.select_dtypes(include=['object']).columns\n",
    "for col in categorical_columns:\n",
    "    dataset[col] = dataset[col].astype('category').cat.codes\n",
    "\n",
    "# Split features and target\n",
    "X = dataset.drop(\"diabetes\", axis=1)\n",
    "y = dataset[\"diabetes\"]\n",
    "\n",
    "# Handle imbalanced data using SMOTE\n",
    "smote = SMOTE(random_state=42)\n",
    "X_resampled, y_resampled = smote.fit_resample(X, y)\n",
    "\n",
    "# Scale the data\n",
    "scaler = StandardScaler()\n",
    "X_resampled = scaler.fit_transform(X_resampled)\n",
    "\n",
    "# Split into training and testing sets\n",
    "X_train, X_test, y_train, y_test = train_test_split(X_resampled, y_resampled, test_size=0.2, random_state=42)\n",
    "\n",
    "# Train a Random Forest Classifier\n",
    "clf = RandomForestClassifier(n_estimators=80, random_state=42)\n",
    "clf.fit(X_train, y_train)\n",
    "\n",
    "# Save the model and scaler using joblib\n",
    "joblib.dump(clf, 'diabetes_model.joblib')\n",
    "joblib.dump(scaler, 'scaler.joblib')\n",
    "\n",
    "# Optionally, print performance metrics\n",
    "y_pred = clf.predict(X_test)\n",
    "print(\"Confusion Matrix:\")\n",
    "print(confusion_matrix(y_test, y_pred))\n",
    "print(\"\\nClassification Report:\")\n",
    "print(classification_report(y_test, y_pred))\n",
    "print(\"\\nROC-AUC Score:\", roc_auc_score(y_test, clf.predict_proba(X_test)[:, 1]))\n"
   ]
  },
  {
   "cell_type": "code",
   "execution_count": null,
   "id": "070d5b13-389c-4119-af16-363127fa2216",
   "metadata": {},
   "outputs": [],
   "source": [
    "\n"
   ]
  }
 ],
 "metadata": {
  "kernelspec": {
   "display_name": "Python 3 (ipykernel)",
   "language": "python",
   "name": "python3"
  },
  "language_info": {
   "codemirror_mode": {
    "name": "ipython",
    "version": 3
   },
   "file_extension": ".py",
   "mimetype": "text/x-python",
   "name": "python",
   "nbconvert_exporter": "python",
   "pygments_lexer": "ipython3",
   "version": "3.12.5"
  }
 },
 "nbformat": 4,
 "nbformat_minor": 5
}
